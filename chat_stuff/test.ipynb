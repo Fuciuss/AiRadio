{
 "cells": [
  {
   "cell_type": "code",
   "execution_count": 1,
   "metadata": {},
   "outputs": [],
   "source": [
    "from googleapiclient.discovery import build\n",
    "from googleapiclient.errors import HttpError\n",
    "from google_auth_oauthlib.flow import InstalledAppFlow\n",
    "from google.auth.transport.requests import Request\n",
    "import os\n",
    "\n",
    "# The CLIENT_SECRETS_FILE variable specifies the name of a file that contains\n",
    "# the OAuth 2.0 information for this application, including its client_id and\n",
    "# client_secret.\n",
    "CLIENT_SECRETS_FILE = \"/Users/reespawson/Documents/Playground/AiRadio/chat_stuff/client_secret_658981559867-9dv7pdnuqk78bpa1ceve3qcu3hgr9dfe.apps.googleusercontent.com.json\"\n",
    "\n",
    "# This OAuth 2.0 access scope allows for read-only access to the authenticated\n",
    "# user's account, but not other types of account access.\n",
    "SCOPES = ['https://www.googleapis.com/auth/youtube.force-ssl']\n",
    "API_SERVICE_NAME = 'youtube'\n",
    "API_VERSION = 'v3'\n",
    "\n",
    "def get_authenticated_service():\n",
    "    flow = InstalledAppFlow.from_client_secrets_file(CLIENT_SECRETS_FILE, SCOPES)\n",
    "    credentials = flow.run_console()\n",
    "    return build(API_SERVICE_NAME, API_VERSION, credentials = credentials)\n",
    "\n",
    "def get_chat_messages(service, live_chat_id):\n",
    "    results = service.liveChatMessages().list(\n",
    "    liveChatId=live_chat_id,\n",
    "    part='id, snippet',\n",
    "    ).execute()\n",
    "\n",
    "    for item in results['items']:\n",
    "        author = item['snippet']['authorChannelId']\n",
    "        message = item['snippet']['displayMessage']\n",
    "        print(f'{author}: {message}')\n"
   ]
  },
  {
   "cell_type": "code",
   "execution_count": 2,
   "metadata": {},
   "outputs": [
    {
     "name": "stdout",
     "output_type": "stream",
     "text": [
      "Please visit this URL to authorize this application: https://accounts.google.com/o/oauth2/auth?response_type=code&client_id=658981559867-9dv7pdnuqk78bpa1ceve3qcu3hgr9dfe.apps.googleusercontent.com&redirect_uri=urn%3Aietf%3Awg%3Aoauth%3A2.0%3Aoob&scope=https%3A%2F%2Fwww.googleapis.com%2Fauth%2Fyoutube.force-ssl&state=iSMFrcB9ndHkLrV2ZPxOz6eJd38eDR&prompt=consent&access_type=offline\n"
     ]
    },
    {
     "ename": "ValueError",
     "evalue": "Please supply either code or authorization_response parameters.",
     "output_type": "error",
     "traceback": [
      "\u001b[0;31m---------------------------------------------------------------------------\u001b[0m",
      "\u001b[0;31mValueError\u001b[0m                                Traceback (most recent call last)",
      "\u001b[1;32m/Users/reespawson/Documents/Playground/AiRadio/chat_stuff/test.ipynb Cell 2\u001b[0m in \u001b[0;36m<cell line: 1>\u001b[0;34m()\u001b[0m\n\u001b[0;32m----> <a href='vscode-notebook-cell:/Users/reespawson/Documents/Playground/AiRadio/chat_stuff/test.ipynb#W1sZmlsZQ%3D%3D?line=0'>1</a>\u001b[0m service \u001b[39m=\u001b[39m get_authenticated_service()\n\u001b[1;32m      <a href='vscode-notebook-cell:/Users/reespawson/Documents/Playground/AiRadio/chat_stuff/test.ipynb#W1sZmlsZQ%3D%3D?line=1'>2</a>\u001b[0m os\u001b[39m.\u001b[39menviron[\u001b[39m'\u001b[39m\u001b[39mOAUTHLIB_INSECURE_TRANSPORT\u001b[39m\u001b[39m'\u001b[39m] \u001b[39m=\u001b[39m \u001b[39m'\u001b[39m\u001b[39m1\u001b[39m\u001b[39m'\u001b[39m\n",
      "\u001b[1;32m/Users/reespawson/Documents/Playground/AiRadio/chat_stuff/test.ipynb Cell 2\u001b[0m in \u001b[0;36mget_authenticated_service\u001b[0;34m()\u001b[0m\n\u001b[1;32m     <a href='vscode-notebook-cell:/Users/reespawson/Documents/Playground/AiRadio/chat_stuff/test.ipynb#W1sZmlsZQ%3D%3D?line=17'>18</a>\u001b[0m \u001b[39mdef\u001b[39;00m \u001b[39mget_authenticated_service\u001b[39m():\n\u001b[1;32m     <a href='vscode-notebook-cell:/Users/reespawson/Documents/Playground/AiRadio/chat_stuff/test.ipynb#W1sZmlsZQ%3D%3D?line=18'>19</a>\u001b[0m     flow \u001b[39m=\u001b[39m InstalledAppFlow\u001b[39m.\u001b[39mfrom_client_secrets_file(CLIENT_SECRETS_FILE, SCOPES)\n\u001b[0;32m---> <a href='vscode-notebook-cell:/Users/reespawson/Documents/Playground/AiRadio/chat_stuff/test.ipynb#W1sZmlsZQ%3D%3D?line=19'>20</a>\u001b[0m     credentials \u001b[39m=\u001b[39m flow\u001b[39m.\u001b[39;49mrun_console()\n\u001b[1;32m     <a href='vscode-notebook-cell:/Users/reespawson/Documents/Playground/AiRadio/chat_stuff/test.ipynb#W1sZmlsZQ%3D%3D?line=20'>21</a>\u001b[0m     \u001b[39mreturn\u001b[39;00m build(API_SERVICE_NAME, API_VERSION, credentials \u001b[39m=\u001b[39m credentials)\n",
      "File \u001b[0;32m~/opt/anaconda3/lib/python3.9/site-packages/google_auth_oauthlib/flow.py:411\u001b[0m, in \u001b[0;36mInstalledAppFlow.run_console\u001b[0;34m(self, authorization_prompt_message, authorization_code_message, **kwargs)\u001b[0m\n\u001b[1;32m    407\u001b[0m \u001b[39mprint\u001b[39m(authorization_prompt_message\u001b[39m.\u001b[39mformat(url\u001b[39m=\u001b[39mauth_url))\n\u001b[1;32m    409\u001b[0m code \u001b[39m=\u001b[39m \u001b[39minput\u001b[39m(authorization_code_message)\n\u001b[0;32m--> 411\u001b[0m \u001b[39mself\u001b[39;49m\u001b[39m.\u001b[39;49mfetch_token(code\u001b[39m=\u001b[39;49mcode)\n\u001b[1;32m    413\u001b[0m \u001b[39mreturn\u001b[39;00m \u001b[39mself\u001b[39m\u001b[39m.\u001b[39mcredentials\n",
      "File \u001b[0;32m~/opt/anaconda3/lib/python3.9/site-packages/google_auth_oauthlib/flow.py:286\u001b[0m, in \u001b[0;36mFlow.fetch_token\u001b[0;34m(self, **kwargs)\u001b[0m\n\u001b[1;32m    284\u001b[0m kwargs\u001b[39m.\u001b[39msetdefault(\u001b[39m\"\u001b[39m\u001b[39mclient_secret\u001b[39m\u001b[39m\"\u001b[39m, \u001b[39mself\u001b[39m\u001b[39m.\u001b[39mclient_config[\u001b[39m\"\u001b[39m\u001b[39mclient_secret\u001b[39m\u001b[39m\"\u001b[39m])\n\u001b[1;32m    285\u001b[0m kwargs\u001b[39m.\u001b[39msetdefault(\u001b[39m\"\u001b[39m\u001b[39mcode_verifier\u001b[39m\u001b[39m\"\u001b[39m, \u001b[39mself\u001b[39m\u001b[39m.\u001b[39mcode_verifier)\n\u001b[0;32m--> 286\u001b[0m \u001b[39mreturn\u001b[39;00m \u001b[39mself\u001b[39;49m\u001b[39m.\u001b[39;49moauth2session\u001b[39m.\u001b[39;49mfetch_token(\u001b[39mself\u001b[39;49m\u001b[39m.\u001b[39;49mclient_config[\u001b[39m\"\u001b[39;49m\u001b[39mtoken_uri\u001b[39;49m\u001b[39m\"\u001b[39;49m], \u001b[39m*\u001b[39;49m\u001b[39m*\u001b[39;49mkwargs)\n",
      "File \u001b[0;32m~/opt/anaconda3/lib/python3.9/site-packages/requests_oauthlib/oauth2_session.py:251\u001b[0m, in \u001b[0;36mOAuth2Session.fetch_token\u001b[0;34m(self, token_url, code, authorization_response, body, auth, username, password, method, force_querystring, timeout, headers, verify, proxies, include_client_id, client_secret, cert, **kwargs)\u001b[0m\n\u001b[1;32m    249\u001b[0m     code \u001b[39m=\u001b[39m \u001b[39mself\u001b[39m\u001b[39m.\u001b[39m_client\u001b[39m.\u001b[39mcode\n\u001b[1;32m    250\u001b[0m     \u001b[39mif\u001b[39;00m \u001b[39mnot\u001b[39;00m code:\n\u001b[0;32m--> 251\u001b[0m         \u001b[39mraise\u001b[39;00m \u001b[39mValueError\u001b[39;00m(\n\u001b[1;32m    252\u001b[0m             \u001b[39m\"\u001b[39m\u001b[39mPlease supply either code or \u001b[39m\u001b[39m\"\u001b[39m \u001b[39m\"\u001b[39m\u001b[39mauthorization_response parameters.\u001b[39m\u001b[39m\"\u001b[39m\n\u001b[1;32m    253\u001b[0m         )\n\u001b[1;32m    255\u001b[0m \u001b[39m# Earlier versions of this library build an HTTPBasicAuth header out of\u001b[39;00m\n\u001b[1;32m    256\u001b[0m \u001b[39m# `username` and `password`. The RFC states, however these attributes\u001b[39;00m\n\u001b[1;32m    257\u001b[0m \u001b[39m# must be in the request body and not the header.\u001b[39;00m\n\u001b[0;32m   (...)\u001b[0m\n\u001b[1;32m    264\u001b[0m \u001b[39m# 4.3.2 - Resource Owner Password Credentials Grant\u001b[39;00m\n\u001b[1;32m    265\u001b[0m \u001b[39m#         https://tools.ietf.org/html/rfc6749#section-4.3.2\u001b[39;00m\n\u001b[1;32m    267\u001b[0m \u001b[39mif\u001b[39;00m \u001b[39misinstance\u001b[39m(\u001b[39mself\u001b[39m\u001b[39m.\u001b[39m_client, LegacyApplicationClient):\n",
      "\u001b[0;31mValueError\u001b[0m: Please supply either code or authorization_response parameters."
     ]
    }
   ],
   "source": [
    "service = get_authenticated_service()\n",
    "os.environ['OAUTHLIB_INSECURE_TRANSPORT'] = '1'\n"
   ]
  },
  {
   "cell_type": "code",
   "execution_count": 20,
   "metadata": {},
   "outputs": [],
   "source": [
    "def get_live_chat_id(service):\n",
    "    list_broadcasts_request = service.liveBroadcasts().list(\n",
    "        broadcastStatus='active',\n",
    "        part='id,snippet',\n",
    "        maxResults=50\n",
    "    )\n",
    "    list_broadcasts_response = list_broadcasts_request.execute()\n",
    "    print(list_broadcasts_response)\n",
    "    for broadcast in list_broadcasts_response.get('items', []):\n",
    "        return broadcast['snippet']['liveChatId']\n",
    "    return None"
   ]
  },
  {
   "cell_type": "code",
   "execution_count": 21,
   "metadata": {},
   "outputs": [
    {
     "name": "stdout",
     "output_type": "stream",
     "text": [
      "{'kind': 'youtube#liveBroadcastListResponse', 'etag': 'PqCO86vmlUDWFiOBSqOsOZRp5jE', 'pageInfo': {'totalResults': 0, 'resultsPerPage': 50}, 'items': []}\n"
     ]
    }
   ],
   "source": [
    "get_live_chat_id(service)"
   ]
  },
  {
   "cell_type": "code",
   "execution_count": 32,
   "metadata": {},
   "outputs": [
    {
     "name": "stdout",
     "output_type": "stream",
     "text": [
      "UCkw2TuPsiMaIelIMdyOfZEA: هذا شو يكول روحو شوفو الخسوف ماادري وين ببث ثاني يمكن اكو خسوف احنة يمنة ماكو كلشي\n",
      "UCUj5IiC3txgiM-tveXSN4eQ: امين يارب العالمين وفرحنا ان شاءالله🤲🤲🤲🤲🤲🤲🤲🤲🤲🤲🤲🤲\n",
      "UCrwupnZq7wpwi2hF6sxxQng: @jerry wow finally someone is here\n",
      "UC9pIeQeC12XUfenGJbpcWrg: life*\n",
      "UCkW9hKr3LWBVgvo5dLn29tQ: 😅\n",
      "UCVET9V8F9o_23JMUKNuueuw: waah aaj kris ne kaise tag krliya mujhe\n",
      "UCShzjj0iypaugyQE4s0Q1MA: fuck Ukraine\n",
      "UCoEIhhaB5sc6DkBsetjOAyQ: Sri Janani grab a knife and show us\n",
      "UCEDYX-X69N2TNS2f8N2G3AQ: what mikasa\n",
      "UCEOWDs_DigAsTANAnwx9NWQ: @Study girl if uh not interested leave it lol\n",
      "UCWlgn0Zf9X3J2A3Ny3ajDvg: thong step on tbh drop out def the class the dark matter\n",
      "UC9pIeQeC12XUfenGJbpcWrg: MCK I'm in love with ur pfp\n",
      "UC-UeRkCKveMhMvQDag-zRjQ: idk sorani kurdish:eyes-purple-crying:\n",
      "UC_d_CFrlibrUgOXwUDLxNoQ: @SAakshi Singh where are you?\n",
      "UCVET9V8F9o_23JMUKNuueuw: nothing much just bored\n",
      "UCo4h5yQBv85cAGGqm6gc3bA: yeah man Green goblin is real @Ben Mee\n",
      "UCcbyAy5uL5Sz8_EPBTHVdCg: Kris lol. no\n",
      "UCFNex8ud-_6OtfPaQ37gTrw: hi\n",
      "UCoEIhhaB5sc6DkBsetjOAyQ: @Diksha lol i was bout to say u to take a rest\n",
      "UCE-JNIqMhaJVE7S0pJErKZQ: che baj gaye\n",
      "UCEDYX-X69N2TNS2f8N2G3AQ: chony a 😁\n",
      "UCoEIhhaB5sc6DkBsetjOAyQ: Sri Janani u have chosen hell\n",
      "UC_bpkVDg4dbOw2lYagY_D2g: سلام عليكم\n",
      "UCVET9V8F9o_23JMUKNuueuw: mtlb ?\n",
      "UC9pIeQeC12XUfenGJbpcWrg: 666 hi\n",
      "UCjnWPgC3GzFgUp-aRTDDBvg: LoL #Junaid , AoA\n",
      "UCStbXbggymT0MmGsXyIuVtQ: 🤣\n",
      "UC1m5llkoUoAGwyouLJPSw4A: @Thomas its 15 : 31. in iraq\n",
      "UCo4h5yQBv85cAGGqm6gc3bA: Ada? is that you? 🤔@a.\n",
      "UCkw2TuPsiMaIelIMdyOfZEA: Thomas I too will go to see the event\n",
      "UCoEIhhaB5sc6DkBsetjOAyQ: bro Ela 666 ur creepy\n",
      "UC0OE-YFcNiSamCiRb0IrzCA: van baby help\n",
      "UCStbXbggymT0MmGsXyIuVtQ: smoked lmao\n",
      "UC7g-59pCkYsBAutsth4KXtA: boring live 😏😏😏\n",
      "UCgTa0YO25A2q38eIv72kRDA: وعليكم السلام\n",
      "UCrwupnZq7wpwi2hF6sxxQng: @jerry Wa Alaikum Salam,\n",
      "UCUj5IiC3txgiM-tveXSN4eQ: وعليكوم اسلام🇲🇦🇩🇿\n",
      "UCcbyAy5uL5Sz8_EPBTHVdCg: Kris I have? should I leave?\n",
      "UCZVRIam_QaN9Oi1T-Qka3PQ: ƧΛGΣ-ЯΣᄂIQЦΛЯY.ᄃΛЯЯD.ᄃӨ [][]][] The number of human species is a topic of debate among anthropologists, and there is no consensus on the exact number.\n",
      "UCjnWPgC3GzFgUp-aRTDDBvg: ~\n",
      "UC9pIeQeC12XUfenGJbpcWrg: 666 do u know what 666 refers to🥰💀\n",
      "UCgTa0YO25A2q38eIv72kRDA: اي اكو هسه\n",
      "UC-UeRkCKveMhMvQDag-zRjQ: no i'm not ada#David\n",
      "UCNHNWal0jVxhDXf_6vatdLA: وعليكم السلام ورحمة الله وبركاته نورت\n",
      "UCEOWDs_DigAsTANAnwx9NWQ: @Study girl exactly 😅😂😂\n",
      "UCoEIhhaB5sc6DkBsetjOAyQ: @Sri Janani ow i was jk\n",
      "UCFNex8ud-_6OtfPaQ37gTrw: im Rus\n",
      "UCE-JNIqMhaJVE7S0pJErKZQ: a for ?\n",
      "UCStbXbggymT0MmGsXyIuVtQ: @miikasa I remember you\n",
      "UCVET9V8F9o_23JMUKNuueuw: Jerry cheese ?\n",
      "UCMx7tY2OJmLKoYLb7A2pDFw: brr skibidi dop dop dop yes yess skibidi dobidi di\n",
      "UCoEIhhaB5sc6DkBsetjOAyQ: 666 = evil?\n",
      "UCEDYX-X69N2TNS2f8N2G3AQ: a. kurdy 😿\n",
      "UCrwupnZq7wpwi2hF6sxxQng: @jerry kaisa chal rha monday, mera tu adha travelling me guzar gya\n",
      "UC1m5llkoUoAGwyouLJPSw4A: badini\n",
      "UCoEIhhaB5sc6DkBsetjOAyQ: priviet\n",
      "UCrfWW1x88uaYO9QgGTyq0vg: @Ela 666 ку\n",
      "UCcbyAy5uL5Sz8_EPBTHVdCg: Kris ikk. lol 😂\n",
      "UCFNex8ud-_6OtfPaQ37gTrw: привет\n",
      "UCrKCAyBKp2IcYKllX1OjNGg: @Study girl i will make the chat interesting to you after i witness the eclipse, but study physics it is interesting than this chat\n",
      "UC9pIeQeC12XUfenGJbpcWrg: ben hell yeah ❤️❤️\n",
      "UCVET9V8F9o_23JMUKNuueuw: @kris break pe aye hoge na\n",
      "UCwio5v0_2MHgrBhLKN_9mHQ: Many indians here leh\n",
      "UCjnWPgC3GzFgUp-aRTDDBvg: ..\n",
      "UC-UeRkCKveMhMvQDag-zRjQ: yea\n",
      "UCNHNWal0jVxhDXf_6vatdLA: هايَ . أنِي أجيتَ . ✨💗🦋.\n",
      "UCrfWW1x88uaYO9QgGTyq0vg: @Kris privet*\n",
      "UC_bpkVDg4dbOw2lYagY_D2g: لباس؟\n",
      "UCjnWPgC3GzFgUp-aRTDDBvg: net💀\n",
      "UCoEIhhaB5sc6DkBsetjOAyQ: @Sri Janani how's ur study going?\n",
      "UCgtVvxA59OOTvkVmTkV_bqg: many bad people, few good people\n",
      "UC9pIeQeC12XUfenGJbpcWrg: 666= devils\n",
      "UC1m5llkoUoAGwyouLJPSw4A: okay\n"
     ]
    }
   ],
   "source": [
    "# Add your Live Chat ID here\n",
    "live_chat_id = 'Cg0KC2pmS2ZQZnlKUmRrKicKGFVDU0o0Z2tWQzZOcnZJSTh1bXp0ZjBPdxILamZLZlBmeUpSZGs'\n",
    "get_chat_messages(service, live_chat_id)\n"
   ]
  },
  {
   "cell_type": "code",
   "execution_count": null,
   "metadata": {},
   "outputs": [],
   "source": [
    "from googleapiclient.discovery import build\n",
    "from dotenv import load_dotenv\n",
    "import os\n",
    "\n",
    "load_dotenv()  # take environment variables from .env.\n",
    "\n",
    "API_KEY = os.getenv(\"YOUTUBE_API_KEY\")\n",
    "\n",
    "YOUTUBE_API_SERVICE_NAME = \"youtube\"\n",
    "YOUTUBE_API_VERSION = \"v3\"\n",
    "\n",
    "youtube = build(YOUTUBE_API_SERVICE_NAME, YOUTUBE_API_VERSION, developerKey=API_KEY)\n",
    "\n",
    "def get_video_details(youtube, **kwargs):\n",
    "    search_response = youtube.videos().list(\n",
    "    **kwargs\n",
    "    ).execute()\n",
    "\n",
    "    return search_response\n",
    "\n",
    "if __name__ == \"__main__\":\n",
    "    video_id = 'jfKfPfyJRdk' # your video id here\n",
    "    response = get_video_details(youtube, part='id,snippet', id=video_id)\n",
    "    print(response)\n"
   ]
  },
  {
   "cell_type": "code",
   "execution_count": 26,
   "metadata": {},
   "outputs": [
    {
     "name": "stdout",
     "output_type": "stream",
     "text": [
      "{'kind': 'youtube#videoListResponse', 'etag': 'F4IWWtLiuP9abGyoTjLWDd4s9Q8', 'items': [{'kind': 'youtube#video', 'etag': 'SL7aNKTsHLpeHAdsI_qt8QrEvB0', 'id': 'jfKfPfyJRdk', 'liveStreamingDetails': {'actualStartTime': '2022-07-12T15:59:30Z', 'scheduledStartTime': '2022-07-12T16:00:00Z', 'concurrentViewers': '26810', 'activeLiveChatId': 'Cg0KC2pmS2ZQZnlKUmRrKicKGFVDU0o0Z2tWQzZOcnZJSTh1bXp0ZjBPdxILamZLZlBmeUpSZGs'}}], 'pageInfo': {'totalResults': 1, 'resultsPerPage': 1}}\n",
      "Cg0KC2pmS2ZQZnlKUmRrKicKGFVDU0o0Z2tWQzZOcnZJSTh1bXp0ZjBPdxILamZLZlBmeUpSZGs\n"
     ]
    }
   ],
   "source": [
    "from googleapiclient.discovery import build\n",
    "\n",
    "load_dotenv()  # take environment variables from .env.\n",
    "\n",
    "API_KEY = os.getenv(\"YOUTUBE_API_KEY\")\n",
    "\n",
    "YOUTUBE_API_SERVICE_NAME = 'youtube'\n",
    "YOUTUBE_API_VERSION = 'v3'\n",
    "\n",
    "youtube = build(YOUTUBE_API_SERVICE_NAME, YOUTUBE_API_VERSION, developerKey=API_KEY)\n",
    "\n",
    "def get_livestream_details(youtube, video_id):\n",
    "    request = youtube.videos().list(\n",
    "        part=\"liveStreamingDetails\",\n",
    "        id=video_id\n",
    "    )\n",
    "    response = request.execute()\n",
    "    \n",
    "    return response\n",
    "\n",
    "if __name__ == \"__main__\":\n",
    "    video_id = 'jfKfPfyJRdk'  # replace with your video id\n",
    "    livestream_details = get_livestream_details(youtube, video_id)\n",
    "    print(livestream_details)\n",
    "    live_chat_id = livestream_details['items'][0]['liveStreamingDetails']['activeLiveChatId']\n",
    "    print(live_chat_id)\n"
   ]
  },
  {
   "cell_type": "code",
   "execution_count": null,
   "metadata": {},
   "outputs": [],
   "source": []
  }
 ],
 "metadata": {
  "kernelspec": {
   "display_name": "base",
   "language": "python",
   "name": "python3"
  },
  "language_info": {
   "codemirror_mode": {
    "name": "ipython",
    "version": 3
   },
   "file_extension": ".py",
   "mimetype": "text/x-python",
   "name": "python",
   "nbconvert_exporter": "python",
   "pygments_lexer": "ipython3",
   "version": "3.9.12"
  },
  "orig_nbformat": 4
 },
 "nbformat": 4,
 "nbformat_minor": 2
}
