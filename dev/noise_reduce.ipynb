{
 "cells": [
  {
   "cell_type": "code",
   "execution_count": 5,
   "metadata": {},
   "outputs": [],
   "source": [
    "import noisereduce as nr\n",
    "import librosa\n",
    "import soundfile as sf\n",
    "\n",
    "# Load audio file\n",
    "audio_data, sample_rate = librosa.load(\"noise_rock.wav\")\n",
    "\n",
    "# Perform noise reduction\n",
    "reduced_noise = nr.reduce_noise(audio_data, sample_rate)\n",
    "\n",
    "# nr.reduce_noise(audio_clip=audio_data, noise_clip=audio_data, verbose=False)\n",
    "# Save output\n",
    "sf.write(\"noise_rock_reduce.wav\", reduced_noise, sample_rate)\n"
   ]
  },
  {
   "cell_type": "code",
   "execution_count": null,
   "metadata": {},
   "outputs": [],
   "source": []
  }
 ],
 "metadata": {
  "kernelspec": {
   "display_name": "base",
   "language": "python",
   "name": "python3"
  },
  "language_info": {
   "codemirror_mode": {
    "name": "ipython",
    "version": 3
   },
   "file_extension": ".py",
   "mimetype": "text/x-python",
   "name": "python",
   "nbconvert_exporter": "python",
   "pygments_lexer": "ipython3",
   "version": "3.10.9"
  },
  "orig_nbformat": 4
 },
 "nbformat": 4,
 "nbformat_minor": 2
}
