{
 "cells": [
  {
   "cell_type": "code",
   "execution_count": 1,
   "metadata": {},
   "outputs": [],
   "source": [
    "import requests"
   ]
  },
  {
   "cell_type": "code",
   "execution_count": 11,
   "metadata": {},
   "outputs": [],
   "source": [
    "res = requests.post('http://127.0.0.1:5000/queuesongs', json=[{\n",
    "    'track_name': 'euphoric_trance',\n",
    "    'track_location': '/home/ubuntu/AiRadio/scratch_output/Euphoric_trance,_pulsating_synth,_uplifting,_energetic_drums,_harmonious_pads_3.wav'}\n",
    "    ])"
   ]
  },
  {
   "cell_type": "code",
   "execution_count": 7,
   "metadata": {},
   "outputs": [
    {
     "data": {
      "text/plain": [
       "<Response [200]>"
      ]
     },
     "execution_count": 7,
     "metadata": {},
     "output_type": "execute_result"
    }
   ],
   "source": [
    "res"
   ]
  },
  {
   "cell_type": "code",
   "execution_count": 12,
   "metadata": {},
   "outputs": [
    {
     "name": "stdout",
     "output_type": "stream",
     "text": [
      "<Response [200]>\n"
     ]
    }
   ],
   "source": [
    "import glob\n",
    "import os\n",
    "\n",
    "folder = \"/home/ubuntu/AiRadio/scratch_output/20230715-152229\"\n",
    "\n",
    "payload = []\n",
    "\n",
    "for file in glob.glob(f\"{folder}/*.wav\"):\n",
    "    payload.append({\n",
    "        'track_name': os.path.basename(file),\n",
    "        'track_location': file\n",
    "    })\n",
    "\n",
    "res = requests.post('http://127.0.0.1:5000/queuesongs', json=payload)\n",
    "print(res)\n"
   ]
  },
  {
   "cell_type": "code",
   "execution_count": null,
   "metadata": {},
   "outputs": [],
   "source": []
  }
 ],
 "metadata": {
  "kernelspec": {
   "display_name": "base",
   "language": "python",
   "name": "python3"
  },
  "language_info": {
   "codemirror_mode": {
    "name": "ipython",
    "version": 3
   },
   "file_extension": ".py",
   "mimetype": "text/x-python",
   "name": "python",
   "nbconvert_exporter": "python",
   "pygments_lexer": "ipython3",
   "version": "3.10.9"
  },
  "orig_nbformat": 4
 },
 "nbformat": 4,
 "nbformat_minor": 2
}
