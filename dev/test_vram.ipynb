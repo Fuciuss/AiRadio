{
 "cells": [
  {
   "cell_type": "code",
   "execution_count": 2,
   "metadata": {},
   "outputs": [],
   "source": [
    "\n",
    "prompts = [\n",
    "            'Dreamy psychedelic rock, vintage guitar, laidback, hypnotic bass, rhythmic drums',\n",
    "            'Experimental electronica, trippy synths, ambient, progressive structure, dynamic bassline',\n",
    "            'Jazzy hip hop, smooth saxophone, mellow, chill beat, melodic bass',\n",
    "            'Euphoric trance, pulsating synth, uplifting, energetic drums, harmonious pads',\n",
    "            'Retro country, twangy guitar, laidback, soothing harmonica, rhythmic bass',\n",
    "            'Vintage ska, upbeat horns, energetic, syncopated guitar, bouncing bass',\n",
    "            'Sultry soul, emotive vocals, chill, rhythmic organ, mellow bassline',\n",
    "            'Retro country, twangy guitar, laidback, soothing harmonica, rhythmic bass',\n",
    "            'Vintage ska, upbeat horns, energetic, syncopated guitar, bouncing bass',\n",
    "            'Sultry soul, emotive vocals, chill, rhythmic organ, mellow bassline',\n",
    "\n",
    "]\n"
   ]
  },
  {
   "cell_type": "code",
   "execution_count": 3,
   "metadata": {},
   "outputs": [],
   "source": [
    "from audiocraft.models import MusicGen\n",
    "import random\n",
    "import time\n",
    "import torch\n",
    "\n",
    "model_size = 'large'\n",
    "model = MusicGen.get_pretrained(model_size)\n",
    "\n",
    "\n",
    "duration = 30\n",
    "model.set_generation_params(\n",
    "            use_sampling=True,\n",
    "            top_k=250,\n",
    "            duration=duration,\n",
    "            cfg_coef=3\n",
    "        )"
   ]
  },
  {
   "cell_type": "code",
   "execution_count": 5,
   "metadata": {},
   "outputs": [
    {
     "name": "stdout",
     "output_type": "stream",
     "text": [
      "took 241.39824891090393 seconds to generate 9 prompts of 30 seconds each\n"
     ]
    }
   ],
   "source": [
    "n_prompts = 9\n",
    "prompts_to_use = random.sample(prompts, n_prompts)\n",
    "\n",
    "start_time = time.time()\n",
    "\n",
    "generated = model.generate(prompts_to_use, progress=True)\n",
    "\n",
    "overlap=5\n",
    "last_moment = generated[:, :, -overlap*model.sample_rate:]\n",
    "\n",
    "continuation_section = model.generate_continuation(last_moment, model.sample_rate, descriptions=prompts_to_use, progress=True)\n",
    "\n",
    "full_continuation_tracks = torch.cat([generated[:, :, :-overlap*model.sample_rate], continuation_section], 2)\n",
    "\n",
    "\n",
    "elapsed_time = time.time() - start_time\n",
    "\n",
    "\n",
    "print(f\"took {elapsed_time} seconds to generate {n_prompts} prompts of {duration} seconds each\")"
   ]
  },
  {
   "cell_type": "code",
   "execution_count": 6,
   "metadata": {},
   "outputs": [
    {
     "name": "stderr",
     "output_type": "stream",
     "text": [
      "CLIPPING /home/ubuntu/AiRadio/scratch_output/Dreamy_psychedelic_rock,_vintage_guitar,_laidback,_hypnotic_bass,_rhythmic_drums_0.wav happening with proba (a bit of clipping is okay): 0.0031284091528505087 maximum scale:  1.9001662731170654\n",
      "CLIPPING /home/ubuntu/AiRadio/scratch_output/Jazzy_hip_hop,_smooth_saxophone,_mellow,_chill_beat,_melodic_bass_2.wav happening with proba (a bit of clipping is okay): 0.010600567795336246 maximum scale:  1.6139987707138062\n"
     ]
    },
    {
     "name": "stdout",
     "output_type": "stream",
     "text": [
      "Saved to /home/ubuntu/AiRadio/scratch_output/Dreamy_psychedelic_rock,_vintage_guitar,_laidback,_hypnotic_bass,_rhythmic_drums_0.wav\n",
      "Saved to /home/ubuntu/AiRadio/scratch_output/Experimental_electronica,_trippy_synths,_ambient,_progressive_structure,_dynamic_bassline_1.wav\n",
      "Saved to /home/ubuntu/AiRadio/scratch_output/Jazzy_hip_hop,_smooth_saxophone,_mellow,_chill_beat,_melodic_bass_2.wav\n"
     ]
    },
    {
     "name": "stderr",
     "output_type": "stream",
     "text": [
      "CLIPPING /home/ubuntu/AiRadio/scratch_output/Euphoric_trance,_pulsating_synth,_uplifting,_energetic_drums,_harmonious_pads_3.wav happening with proba (a bit of clipping is okay): 7.784090848872438e-05 maximum scale:  1.3691251277923584\n",
      "CLIPPING /home/ubuntu/AiRadio/scratch_output/Retro_country,_twangy_guitar,_laidback,_soothing_harmonica,_rhythmic_bass_4.wav happening with proba (a bit of clipping is okay): 9.14772754185833e-05 maximum scale:  1.2240946292877197\n",
      "CLIPPING /home/ubuntu/AiRadio/scratch_output/Vintage_ska,_upbeat_horns,_energetic,_syncopated_guitar,_bouncing_bass_5.wav happening with proba (a bit of clipping is okay): 0.00012329545279499143 maximum scale:  1.270970106124878\n"
     ]
    },
    {
     "name": "stdout",
     "output_type": "stream",
     "text": [
      "Saved to /home/ubuntu/AiRadio/scratch_output/Euphoric_trance,_pulsating_synth,_uplifting,_energetic_drums,_harmonious_pads_3.wav\n",
      "Saved to /home/ubuntu/AiRadio/scratch_output/Retro_country,_twangy_guitar,_laidback,_soothing_harmonica,_rhythmic_bass_4.wav\n",
      "Saved to /home/ubuntu/AiRadio/scratch_output/Vintage_ska,_upbeat_horns,_energetic,_syncopated_guitar,_bouncing_bass_5.wav\n",
      "Saved to /home/ubuntu/AiRadio/scratch_output/Sultry_soul,_emotive_vocals,_chill,_rhythmic_organ,_mellow_bassline_6.wav\n",
      "Saved to /home/ubuntu/AiRadio/scratch_output/Retro_country,_twangy_guitar,_laidback,_soothing_harmonica,_rhythmic_bass_7.wav\n",
      "Saved to /home/ubuntu/AiRadio/scratch_output/Vintage_ska,_upbeat_horns,_energetic,_syncopated_guitar,_bouncing_bass_8.wav\n"
     ]
    },
    {
     "name": "stderr",
     "output_type": "stream",
     "text": [
      "CLIPPING /home/ubuntu/AiRadio/scratch_output/Sultry_soul,_emotive_vocals,_chill,_rhythmic_organ,_mellow_bassline_6.wav happening with proba (a bit of clipping is okay): 3.409090822970029e-06 maximum scale:  1.1553694009780884\n",
      "CLIPPING /home/ubuntu/AiRadio/scratch_output/Retro_country,_twangy_guitar,_laidback,_soothing_harmonica,_rhythmic_bass_7.wav happening with proba (a bit of clipping is okay): 2.6136363885598257e-05 maximum scale:  1.1651315689086914\n",
      "CLIPPING /home/ubuntu/AiRadio/scratch_output/Vintage_ska,_upbeat_horns,_energetic,_syncopated_guitar,_bouncing_bass_8.wav happening with proba (a bit of clipping is okay): 3.409090822970029e-06 maximum scale:  1.0084209442138672\n"
     ]
    }
   ],
   "source": [
    "from audiocraft.data.audio import audio_write\n",
    "import os\n",
    "\n",
    "\n",
    "clips = full_continuation_tracks\n",
    "\n",
    "\n",
    "for i in range(clips.shape[0]):\n",
    "\n",
    "    file_name = prompts[i].replace(\" \", \"_\") + f\"_{i}.wav\"\n",
    "\n",
    "    clip = clips.detach().cpu().float()[i]\n",
    "\n",
    "    full_location = os.path.join(\"/home/ubuntu/AiRadio/scratch_output\", file_name)\n",
    "    with open(full_location, 'wb') as file:\n",
    "        audio_write(\n",
    "            file.name, clip, model.sample_rate, strategy=\"loudness\",\n",
    "            loudness_headroom_db=16, add_suffix=False)\n",
    "        print(f'Saved to {file.name}')\n",
    "\n"
   ]
  },
  {
   "cell_type": "code",
   "execution_count": null,
   "metadata": {},
   "outputs": [],
   "source": []
  }
 ],
 "metadata": {
  "kernelspec": {
   "display_name": "base",
   "language": "python",
   "name": "python3"
  },
  "language_info": {
   "codemirror_mode": {
    "name": "ipython",
    "version": 3
   },
   "file_extension": ".py",
   "mimetype": "text/x-python",
   "name": "python",
   "nbconvert_exporter": "python",
   "pygments_lexer": "ipython3",
   "version": "3.10.9"
  },
  "orig_nbformat": 4
 },
 "nbformat": 4,
 "nbformat_minor": 2
}
